{
 "cells": [
  {
   "cell_type": "markdown",
   "metadata": {},
   "source": [
    "<h1>Example: Convolutional Neural Network using TensorFlow (2.3.0) </h1>\n",
    "\n",
    "Using Raw version - weights and biases"
   ]
  },
  {
   "cell_type": "markdown",
   "metadata": {},
   "source": [
    "<h3>Convolution Neural Network</h3>\n",
    "\n",
    "![CNN](https://raw.githubusercontent.com/worklifesg/Deep-Learning-Specialization/master/images/CNN.png)"
   ]
  },
  {
   "cell_type": "markdown",
   "metadata": {},
   "source": [
    "<h3>MNIST Dataset</h3>\n",
    "\n",
    "The MNIST database of handwritten digits, available from this page, has a training set of 60,000 examples, and a test set of 10,000 examples. It is a subset of a larger set available from NIST. The digits have been size-normalized and centered in a fixed-size image.\n",
    "\n",
    "It is a good database for people who want to try learning techniques and pattern recognition methods on real-world data while spending minimal efforts on preprocessing and formatting. \n",
    "\n",
    "![MNIST](https://raw.githubusercontent.com/worklifesg/Deep-Learning-Specialization/master/images/MnistExamples.png)"
   ]
  },
  {
   "cell_type": "markdown",
   "metadata": {},
   "source": [
    "<h4>Step 1: Import Libraries</h4>"
   ]
  },
  {
   "cell_type": "code",
   "execution_count": 1,
   "metadata": {},
   "outputs": [
    {
     "name": "stdout",
     "output_type": "stream",
     "text": [
      "2.3.0\n"
     ]
    }
   ],
   "source": [
    "import tensorflow as tf\n",
    "from tensorflow.keras import Model, layers\n",
    "import numpy as np\n",
    "import pandas as pd\n",
    "\n",
    "print(tf.__version__)"
   ]
  },
  {
   "cell_type": "markdown",
   "metadata": {},
   "source": [
    "<h4>Step 2: Parameters</h4>"
   ]
  },
  {
   "cell_type": "code",
   "execution_count": 2,
   "metadata": {},
   "outputs": [],
   "source": [
    "# MNSIT dataset parameters (No need of num_input and dropout as in version 1.15)\n",
    "num_classes=10\n",
    "\n",
    "# Training parameters\n",
    "\n",
    "learning_rate=0.001\n",
    "num_steps=500\n",
    "batch_size=128\n",
    "display_step=10\n",
    "\n",
    "# Network parameters (No tf graph input through placeholder as in version 1.15)\n",
    "\n",
    "conv1_filters=32 # first layer\n",
    "conv2_filters=64 # second layer\n",
    "fc1_units=1024 #neurons in fully connected layer"
   ]
  },
  {
   "cell_type": "markdown",
   "metadata": {},
   "source": [
    "<h4> Step3: MNIST dataset from Keras dataset </h4>\n",
    "\n",
    "In version 1.15, we used tensorflow.examples.tutorials.mnist packaage, which is no more available in version 2, so it is better to use datasets from keras "
   ]
  },
  {
   "cell_type": "code",
   "execution_count": 3,
   "metadata": {},
   "outputs": [],
   "source": [
    "from tensorflow.keras.datasets import mnist\n",
    "(x_train,y_train),(x_test,y_test)= mnist.load_data() # get training and testing data\n",
    "\n",
    "#x is the data for images and y is the classes and labels\n",
    "\n",
    "x_train,x_test = np.array(x_train,np.float32),np.array(x_test,np.float32) #First convert the data to float32\n",
    "x_train,x_test = x_train/255,x_test/255 # Normalize the image value from [0,255] to [0,1]"
   ]
  },
  {
   "cell_type": "code",
   "execution_count": 4,
   "metadata": {},
   "outputs": [],
   "source": [
    "# Shuffle and Batch Data\n",
    "# -- In version 1.15, we used batch size in sess.run nad used mnist.train.next_batch(batch_size) but in 2.3.0 we will\n",
    "# use tf.data for training data\n",
    "\n",
    "train_data=tf.data.Dataset.from_tensor_slices((x_train,y_train))\n",
    "train_data=train_data.repeat().shuffle(5000).batch(batch_size).prefetch(1)"
   ]
  },
  {
   "cell_type": "markdown",
   "metadata": {},
   "source": [
    "<h4> Step4: Creating wrappers for conv2d and maxpool2d </h4>\n",
    "\n",
    "Basically done for having control over weights and biases "
   ]
  },
  {
   "cell_type": "code",
   "execution_count": 5,
   "metadata": {},
   "outputs": [],
   "source": [
    "def conv2d(x,W,b,strides=1):\n",
    "    x=tf.nn.conv2d(x,W,strides=[1,strides,strides,1],padding='SAME') #for weights\n",
    "    x=tf.nn.bias_add(x,b) #adding biases\n",
    "    return tf.nn.relu(x) #return with ReLu activation\n",
    "\n",
    "def maxpool2d(x,k=2):\n",
    "    mpool2d=tf.nn.max_pool(x,ksize=[1,k,k,1],strides=[1,k,k,1],padding='SAME')\n",
    "    return mpool2d"
   ]
  },
  {
   "cell_type": "markdown",
   "metadata": {},
   "source": [
    "<h4> Step5: Defining and storing layers for weights and biases </h4>"
   ]
  },
  {
   "cell_type": "code",
   "execution_count": 6,
   "metadata": {},
   "outputs": [],
   "source": [
    "# First we need random value generator to intialize weights\n",
    "\n",
    "random_normal=tf.initializers.RandomNormal()\n",
    "\n",
    "weights={\n",
    "    'wc1':tf.Variable(random_normal([5,5,1,conv1_filters])), # Layer 1: 5x5 conv, 1 input, 32 filters\n",
    "    'wc2':tf.Variable(random_normal([5,5,conv1_filters,conv2_filters])), # Layer 2: 5x5 conv, 32 inputs and 64 filters\n",
    "    'wd1':tf.Variable(random_normal([7*7*64,fc1_units])), #fully connected layer (7*7*64) input and 1024 neurons\n",
    "    'out':tf.Variable(random_normal([fc1_units,num_classes]))\n",
    "}\n",
    "\n",
    "biases={\n",
    "    'bc1':tf.Variable(tf.zeros([conv1_filters])),\n",
    "    'bc2':tf.Variable(tf.zeros([conv2_filters])),\n",
    "    'bd1':tf.Variable(tf.zeros([fc1_units])),\n",
    "    'out':tf.Variable(tf.zeros([num_classes]))\n",
    "}"
   ]
  },
  {
   "cell_type": "markdown",
   "metadata": {},
   "source": [
    "<h4> Step6: Create Model and Define Loss and Accuracy functions </h4>"
   ]
  },
  {
   "cell_type": "code",
   "execution_count": 7,
   "metadata": {},
   "outputs": [],
   "source": [
    "def conv_total(x):\n",
    "    \n",
    "    x=tf.reshape(x,[-1,28,28,1]) # Input =[-1,28,28,1] = 28x28x1 grayscale images\n",
    "    \n",
    "    conv1=conv2d(x,weights['wc1'],biases['bc1'])                             #output = [-1,28,28,32]\n",
    "    conv1=maxpool2d(conv1,k=2)                                               #output = [-1,14,14,32]\n",
    "    \n",
    "    conv2=conv2d(conv1,weights['wc2'],biases['bc2'])                         #output = [-1,14,14,64]\n",
    "    conv2=maxpool2d(conv2,k=2)                                               #output = [-1,7,7,64]\n",
    "    \n",
    "    fc1=tf.reshape(conv2,[-1,weights['wd1'].get_shape().as_list()[0]])       #output = [-1,7*7*64]\n",
    "    \n",
    "    fc1=tf.add(tf.matmul(fc1,weights['wd1']),biases['bd1'])                  #output = [-1,1024]\n",
    "    fc1=tf.nn.relu(fc1) #apply Relu for non-linearity\n",
    "    \n",
    "    out=tf.add(tf.matmul(fc1,weights['out']),biases['out'])                  #output = [-1,10]\n",
    "    \n",
    "    return tf.nn.softmax(out) #softmax to normalize logits"
   ]
  },
  {
   "cell_type": "code",
   "execution_count": 8,
   "metadata": {},
   "outputs": [],
   "source": [
    "def cross_entropy_loss(y_pred,y_true):\n",
    "    y_true=tf.one_hot(y_true,depth=num_classes) #encode labels by one hot ve\n",
    "    y_pred=tf.clip_by_value(y_pred,1e-9,1.) #use clip prediction to avoid log(0) error\n",
    "    \n",
    "    return tf.reduce_mean(-tf.reduce_sum(y_true*tf.math.log(y_pred)))\n",
    "\n",
    "def accuracy(y_pred,y_true):\n",
    "    correct_prediction=tf.equal(tf.argmax(y_pred,1),tf.cast(y_true,tf.int64))\n",
    "    return tf.reduce_mean(tf.cast(correct_prediction,tf.float32),axis=-1)\n",
    "\n",
    "optimizer=tf.optimizers.Adam(learning_rate)"
   ]
  },
  {
   "cell_type": "markdown",
   "metadata": {},
   "source": [
    "<h4> Step7: Optimization Process </h4>"
   ]
  },
  {
   "cell_type": "code",
   "execution_count": 9,
   "metadata": {},
   "outputs": [],
   "source": [
    "def optimization(x,y):\n",
    "    with tf.GradientTape() as g: # computing optimization process as session run\n",
    "        pred=conv_total(x) #using prediction funtion in conv_total()\n",
    "        loss=cross_entropy_loss(pred,y) #compute loss\n",
    "        \n",
    "    train_var=list(weights.values()) + list(biases.values()) # variables update\n",
    "    grad=g.gradient(loss,train_var) #compute gradients\n",
    "    \n",
    "    optimizer.apply_gradients(zip(grad,train_var)) #update weights and biases following gradients"
   ]
  },
  {
   "cell_type": "markdown",
   "metadata": {},
   "source": [
    "<h4> Step8: Train Model </h4>"
   ]
  },
  {
   "cell_type": "code",
   "execution_count": 10,
   "metadata": {},
   "outputs": [
    {
     "name": "stdout",
     "output_type": "stream",
     "text": [
      "step: 10, loss: 74.003220, accuracy: 0.835938\n",
      "step: 20, loss: 41.783424, accuracy: 0.867188\n",
      "step: 30, loss: 42.944805, accuracy: 0.921875\n",
      "step: 40, loss: 25.742123, accuracy: 0.937500\n",
      "step: 50, loss: 28.602489, accuracy: 0.914062\n",
      "step: 60, loss: 10.795020, accuracy: 0.984375\n",
      "step: 70, loss: 21.607037, accuracy: 0.968750\n",
      "step: 80, loss: 26.993595, accuracy: 0.937500\n",
      "step: 90, loss: 13.408720, accuracy: 0.968750\n",
      "step: 100, loss: 8.451270, accuracy: 0.984375\n",
      "step: 110, loss: 11.804845, accuracy: 0.976562\n",
      "step: 120, loss: 14.731485, accuracy: 0.953125\n",
      "step: 130, loss: 8.882578, accuracy: 0.976562\n",
      "step: 140, loss: 17.711435, accuracy: 0.953125\n",
      "step: 150, loss: 6.498240, accuracy: 0.984375\n",
      "step: 160, loss: 2.394658, accuracy: 1.000000\n",
      "step: 170, loss: 12.819140, accuracy: 0.960938\n",
      "step: 180, loss: 5.203889, accuracy: 0.992188\n",
      "step: 190, loss: 5.837789, accuracy: 0.984375\n",
      "step: 200, loss: 11.276522, accuracy: 0.960938\n",
      "step: 210, loss: 10.039032, accuracy: 0.984375\n",
      "step: 220, loss: 3.018801, accuracy: 1.000000\n",
      "step: 230, loss: 2.530488, accuracy: 1.000000\n",
      "step: 240, loss: 4.884956, accuracy: 0.984375\n",
      "step: 250, loss: 6.511620, accuracy: 0.992188\n",
      "step: 260, loss: 5.072418, accuracy: 0.992188\n",
      "step: 270, loss: 6.868215, accuracy: 0.984375\n",
      "step: 280, loss: 4.783404, accuracy: 0.992188\n",
      "step: 290, loss: 7.156098, accuracy: 0.984375\n",
      "step: 300, loss: 8.399147, accuracy: 0.968750\n",
      "step: 310, loss: 5.622399, accuracy: 0.984375\n",
      "step: 320, loss: 8.678368, accuracy: 0.968750\n",
      "step: 330, loss: 9.282429, accuracy: 0.992188\n",
      "step: 340, loss: 9.316627, accuracy: 0.968750\n",
      "step: 350, loss: 3.410430, accuracy: 0.992188\n",
      "step: 360, loss: 3.678600, accuracy: 0.992188\n",
      "step: 370, loss: 4.896580, accuracy: 0.984375\n",
      "step: 380, loss: 3.581468, accuracy: 0.992188\n",
      "step: 390, loss: 6.461936, accuracy: 0.992188\n",
      "step: 400, loss: 3.535317, accuracy: 0.992188\n",
      "step: 410, loss: 2.706564, accuracy: 0.992188\n",
      "step: 420, loss: 0.926953, accuracy: 1.000000\n",
      "step: 430, loss: 6.849891, accuracy: 0.992188\n",
      "step: 440, loss: 3.891268, accuracy: 0.992188\n",
      "step: 450, loss: 0.933279, accuracy: 1.000000\n",
      "step: 460, loss: 3.808622, accuracy: 0.992188\n",
      "step: 470, loss: 2.726856, accuracy: 0.992188\n",
      "step: 480, loss: 5.920186, accuracy: 0.984375\n",
      "step: 490, loss: 4.462532, accuracy: 0.992188\n",
      "step: 500, loss: 8.039105, accuracy: 0.984375\n",
      "Test Accuracy: 0.984700\n"
     ]
    }
   ],
   "source": [
    "for step, (batch_x,batch_y) in enumerate(train_data.take(num_steps),1):\n",
    "    optimization(batch_x,batch_y)\n",
    "    \n",
    "    if step % display_step==0:\n",
    "        pred=conv_total(batch_x)\n",
    "        loss=cross_entropy_loss(pred,batch_y)\n",
    "        acc=accuracy(pred,batch_y)\n",
    "        print(\"step: %i, loss: %f, accuracy: %f\" % (step, loss, acc))\n",
    "\n",
    "# Test model on validation set (accuracy)\n",
    "pred = conv_total(x_test)\n",
    "print(\"Test Accuracy: %f\" % accuracy(pred, y_test))"
   ]
  },
  {
   "cell_type": "code",
   "execution_count": null,
   "metadata": {},
   "outputs": [],
   "source": []
  }
 ],
 "metadata": {
  "kernelspec": {
   "display_name": "Python 3",
   "language": "python",
   "name": "python3"
  },
  "language_info": {
   "codemirror_mode": {
    "name": "ipython",
    "version": 3
   },
   "file_extension": ".py",
   "mimetype": "text/x-python",
   "name": "python",
   "nbconvert_exporter": "python",
   "pygments_lexer": "ipython3",
   "version": "3.8.3"
  }
 },
 "nbformat": 4,
 "nbformat_minor": 4
}
