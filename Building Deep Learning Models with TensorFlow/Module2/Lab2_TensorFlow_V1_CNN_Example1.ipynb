{
 "cells": [
  {
   "cell_type": "markdown",
   "metadata": {
    "collapsed": false
   },
   "source": [
    "<div class=\"alert alert-block alert-info\" style=\"margin-top: 20px\">\n",
    "<font size = 5><strong>Example: Convolutional Neural Network using TensorFlow (1.15) </strong></font>"
   ]
  },
  {
   "cell_type": "markdown",
   "metadata": {
    "collapsed": false
   },
   "source": [
    "<h3>Convolution Neural Network</h3>\n",
    "\n",
    "![CNN](https://raw.githubusercontent.com/worklifesg/Deep-Learning-Specialization/master/images/CNN.png)"
   ]
  },
  {
   "cell_type": "markdown",
   "metadata": {
    "collapsed": false
   },
   "source": [
    "<h3>MNIST Dataset</h3>\n",
    "\n",
    "The MNIST database of handwritten digits, available from this page, has a training set of 60,000 examples, and a test set of 10,000 examples. It is a subset of a larger set available from NIST. The digits have been size-normalized and centered in a fixed-size image.\n",
    "\n",
    "It is a good database for people who want to try learning techniques and pattern recognition methods on real-world data while spending minimal efforts on preprocessing and formatting. \n",
    "\n",
    "![MNIST](https://raw.githubusercontent.com/worklifesg/Deep-Learning-Specialization/master/images/MnistExamples.png)"
   ]
  },
  {
   "cell_type": "markdown",
   "metadata": {
    "collapsed": false
   },
   "source": [
    "</div>\n",
    "<div class=\"alert alert-success\" role=\"alert\">\n",
    "  Step I: Import <b><u>Libraries & MNIST</u></b> Data\n",
    "</div>"
   ]
  },
  {
   "cell_type": "code",
   "execution_count": 1,
   "metadata": {
    "collapsed": false
   },
   "outputs": [
    {
     "name": "stderr",
     "output_type": "stream",
     "text": [
      "C:\\Users\\Home\\anaconda3\\lib\\site-packages\\tensorflow\\python\\framework\\dtypes.py:516: FutureWarning: Passing (type, 1) or '1type' as a synonym of type is deprecated; in a future version of numpy, it will be understood as (type, (1,)) / '(1,)type'.\n",
      "  _np_qint8 = np.dtype([(\"qint8\", np.int8, 1)])\n",
      "C:\\Users\\Home\\anaconda3\\lib\\site-packages\\tensorflow\\python\\framework\\dtypes.py:517: FutureWarning: Passing (type, 1) or '1type' as a synonym of type is deprecated; in a future version of numpy, it will be understood as (type, (1,)) / '(1,)type'.\n",
      "  _np_quint8 = np.dtype([(\"quint8\", np.uint8, 1)])\n",
      "C:\\Users\\Home\\anaconda3\\lib\\site-packages\\tensorflow\\python\\framework\\dtypes.py:518: FutureWarning: Passing (type, 1) or '1type' as a synonym of type is deprecated; in a future version of numpy, it will be understood as (type, (1,)) / '(1,)type'.\n",
      "  _np_qint16 = np.dtype([(\"qint16\", np.int16, 1)])\n",
      "C:\\Users\\Home\\anaconda3\\lib\\site-packages\\tensorflow\\python\\framework\\dtypes.py:519: FutureWarning: Passing (type, 1) or '1type' as a synonym of type is deprecated; in a future version of numpy, it will be understood as (type, (1,)) / '(1,)type'.\n",
      "  _np_quint16 = np.dtype([(\"quint16\", np.uint16, 1)])\n",
      "C:\\Users\\Home\\anaconda3\\lib\\site-packages\\tensorflow\\python\\framework\\dtypes.py:520: FutureWarning: Passing (type, 1) or '1type' as a synonym of type is deprecated; in a future version of numpy, it will be understood as (type, (1,)) / '(1,)type'.\n",
      "  _np_qint32 = np.dtype([(\"qint32\", np.int32, 1)])\n",
      "C:\\Users\\Home\\anaconda3\\lib\\site-packages\\tensorflow\\python\\framework\\dtypes.py:525: FutureWarning: Passing (type, 1) or '1type' as a synonym of type is deprecated; in a future version of numpy, it will be understood as (type, (1,)) / '(1,)type'.\n",
      "  np_resource = np.dtype([(\"resource\", np.ubyte, 1)])\n",
      "C:\\Users\\Home\\anaconda3\\lib\\site-packages\\tensorboard\\compat\\tensorflow_stub\\dtypes.py:541: FutureWarning: Passing (type, 1) or '1type' as a synonym of type is deprecated; in a future version of numpy, it will be understood as (type, (1,)) / '(1,)type'.\n",
      "  _np_qint8 = np.dtype([(\"qint8\", np.int8, 1)])\n",
      "C:\\Users\\Home\\anaconda3\\lib\\site-packages\\tensorboard\\compat\\tensorflow_stub\\dtypes.py:542: FutureWarning: Passing (type, 1) or '1type' as a synonym of type is deprecated; in a future version of numpy, it will be understood as (type, (1,)) / '(1,)type'.\n",
      "  _np_quint8 = np.dtype([(\"quint8\", np.uint8, 1)])\n",
      "C:\\Users\\Home\\anaconda3\\lib\\site-packages\\tensorboard\\compat\\tensorflow_stub\\dtypes.py:543: FutureWarning: Passing (type, 1) or '1type' as a synonym of type is deprecated; in a future version of numpy, it will be understood as (type, (1,)) / '(1,)type'.\n",
      "  _np_qint16 = np.dtype([(\"qint16\", np.int16, 1)])\n",
      "C:\\Users\\Home\\anaconda3\\lib\\site-packages\\tensorboard\\compat\\tensorflow_stub\\dtypes.py:544: FutureWarning: Passing (type, 1) or '1type' as a synonym of type is deprecated; in a future version of numpy, it will be understood as (type, (1,)) / '(1,)type'.\n",
      "  _np_quint16 = np.dtype([(\"quint16\", np.uint16, 1)])\n",
      "C:\\Users\\Home\\anaconda3\\lib\\site-packages\\tensorboard\\compat\\tensorflow_stub\\dtypes.py:545: FutureWarning: Passing (type, 1) or '1type' as a synonym of type is deprecated; in a future version of numpy, it will be understood as (type, (1,)) / '(1,)type'.\n",
      "  _np_qint32 = np.dtype([(\"qint32\", np.int32, 1)])\n",
      "C:\\Users\\Home\\anaconda3\\lib\\site-packages\\tensorboard\\compat\\tensorflow_stub\\dtypes.py:550: FutureWarning: Passing (type, 1) or '1type' as a synonym of type is deprecated; in a future version of numpy, it will be understood as (type, (1,)) / '(1,)type'.\n",
      "  np_resource = np.dtype([(\"resource\", np.ubyte, 1)])\n"
     ]
    }
   ],
   "source": [
    "from __future__ import division, print_function,absolute_import\n",
    "import tensorflow as tf"
   ]
  },
  {
   "cell_type": "code",
   "execution_count": 2,
   "metadata": {
    "collapsed": false
   },
   "outputs": [
    {
     "name": "stdout",
     "output_type": "stream",
     "text": [
      "WARNING:tensorflow:From <ipython-input-2-dfffea239066>:4: read_data_sets (from tensorflow.contrib.learn.python.learn.datasets.mnist) is deprecated and will be removed in a future version.\n",
      "Instructions for updating:\n",
      "Please use alternatives such as official/mnist/dataset.py from tensorflow/models.\n",
      "WARNING:tensorflow:From C:\\Users\\Home\\anaconda3\\lib\\site-packages\\tensorflow\\contrib\\learn\\python\\learn\\datasets\\mnist.py:260: maybe_download (from tensorflow.contrib.learn.python.learn.datasets.base) is deprecated and will be removed in a future version.\n",
      "Instructions for updating:\n",
      "Please write your own downloading logic.\n",
      "WARNING:tensorflow:From C:\\Users\\Home\\anaconda3\\lib\\site-packages\\tensorflow\\contrib\\learn\\python\\learn\\datasets\\mnist.py:262: extract_images (from tensorflow.contrib.learn.python.learn.datasets.mnist) is deprecated and will be removed in a future version.\n",
      "Instructions for updating:\n",
      "Please use tf.data to implement this functionality.\n",
      "Extracting /tmp/data/train-images-idx3-ubyte.gz\n",
      "WARNING:tensorflow:From C:\\Users\\Home\\anaconda3\\lib\\site-packages\\tensorflow\\contrib\\learn\\python\\learn\\datasets\\mnist.py:267: extract_labels (from tensorflow.contrib.learn.python.learn.datasets.mnist) is deprecated and will be removed in a future version.\n",
      "Instructions for updating:\n",
      "Please use tf.data to implement this functionality.\n",
      "Extracting /tmp/data/train-labels-idx1-ubyte.gz\n",
      "WARNING:tensorflow:From C:\\Users\\Home\\anaconda3\\lib\\site-packages\\tensorflow\\contrib\\learn\\python\\learn\\datasets\\mnist.py:110: dense_to_one_hot (from tensorflow.contrib.learn.python.learn.datasets.mnist) is deprecated and will be removed in a future version.\n",
      "Instructions for updating:\n",
      "Please use tf.one_hot on tensors.\n",
      "Extracting /tmp/data/t10k-images-idx3-ubyte.gz\n",
      "Extracting /tmp/data/t10k-labels-idx1-ubyte.gz\n",
      "WARNING:tensorflow:From C:\\Users\\Home\\anaconda3\\lib\\site-packages\\tensorflow\\contrib\\learn\\python\\learn\\datasets\\mnist.py:290: DataSet.__init__ (from tensorflow.contrib.learn.python.learn.datasets.mnist) is deprecated and will be removed in a future version.\n",
      "Instructions for updating:\n",
      "Please use alternatives such as official/mnist/dataset.py from tensorflow/models.\n"
     ]
    }
   ],
   "source": [
    "#MNSIT data using tutorials only valid in TensorFlow V1\n",
    "\n",
    "from tensorflow.examples.tutorials.mnist import input_data\n",
    "mnist=input_data.read_data_sets(\"/tmp/data/\", one_hot=True)"
   ]
  },
  {
   "cell_type": "markdown",
   "metadata": {
    "collapsed": false
   },
   "source": [
    "</div>\n",
    "<div class=\"alert alert-success\" role=\"alert\">\n",
    "  Step II: Define Parameters --> <b><u>Training, Network, Graph input</u></b>\n",
    "</div>"
   ]
  },
  {
   "cell_type": "code",
   "execution_count": 3,
   "metadata": {
    "collapsed": false
   },
   "outputs": [
   ],
   "source": [
    "#Training parameters\n",
    "\n",
    "learning_rate=0.001\n",
    "num_steps=500\n",
    "batch_size=128\n",
    "display_step=10"
   ]
  },
  {
   "cell_type": "code",
   "execution_count": 4,
   "metadata": {
    "collapsed": false
   },
   "outputs": [
   ],
   "source": [
    "#Network parameters (MNIST data parameters)\n",
    "\n",
    "num_input=784 # (28 x 28)\n",
    "num_classes=10 # MNSIST labels or classes\n",
    "dropout=0.75 # Probability keep units"
   ]
  },
  {
   "cell_type": "code",
   "execution_count": 5,
   "metadata": {
    "collapsed": false
   },
   "outputs": [
   ],
   "source": [
    "# tf Graph input using placeholder ( valid only in TensorFlow version 1)\n",
    "\n",
    "X=tf.placeholder(tf.float32,[None,num_input])\n",
    "Y=tf.placeholder(tf.float32,[None,num_classes])\n",
    "keep_prob=tf.placeholder(tf.float32)"
   ]
  },
  {
   "cell_type": "markdown",
   "metadata": {
    "collapsed": false
   },
   "source": [
    "</div>\n",
    "<div class=\"alert alert-success\" role=\"alert\">\n",
    "  Step III: Define functions for image classifications such as <b><u>convolution, max pooling, full connected layer</u></b>\n",
    "</div>\n",
    "<p>\n",
    "  <button class=\"btn btn-primary\" type=\"button\" data-toggle=\"collapse\" data-target=\"#multiCollapseExample2\" aria-expanded=\"false\" aria-controls=\"multiCollapseExample2\">conv2d</button>\n",
    "</p>\n",
    "  <div class=\"col\">\n",
    "    <div class=\"collapse multi-collapse\" id=\"multiCollapseExample2\">\n",
    "        <div class=\"card card-body\">\n",
    "        <samp><mark>tf.nn.conv2d(input, filters, strides, padding, data_format='NHWC', dilations=None, name=None\n",
    "              </mark></samp>\n",
    "          \n",
    "          input - A Tensor. \n",
    "          \n",
    "          filters - A Tensor. Must have the same type as input. A 4-D tensor of shape [filter_height, filter_width,\n",
    "          in_channels, out_channels]\n",
    "          \n",
    "          strides - An int or list of ints that has length 1, 2 or 4. The stride of the sliding window for each\n",
    "          dimension of input.\n",
    "          \n",
    "          padding - Either the string 'SAME' or 'VALID' indicating the type of padding algorithm to use"
   ]
  },
  {
   "cell_type": "markdown",
   "metadata": {
    "collapsed": false
   },
   "source": [
    "<p>\n",
    "  <button class=\"btn btn-primary\" type=\"button\" data-toggle=\"collapse\" data-target=\"#multiCollapseExample2\" aria-expanded=\"false\" aria-controls=\"multiCollapseExample2\">maxpool2d</button>\n",
    "</p>\n",
    "  <div class=\"col\">\n",
    "    <div class=\"collapse multi-collapse\" id=\"multiCollapseExample2\">\n",
    "        <div class=\"card card-body\">\n",
    "          <samp><mark>tf.nn.max_pool(input, ksize, strides, padding, data_format=None, name=None)\n",
    "              </mark></samp>\n",
    "\n",
    "          input - Tensor of rank N+2, of shape [batch_size] + input_spatial_shape + [num_channels]\n",
    "          \n",
    "          ksize - An int or list of ints that has length 1, N or N+2. The size of the window for each dimension of\n",
    "          the input tensor.\n",
    "          \n",
    "          strides - An int or list of ints that has length 1, N or N+2. The stride of the sliding window for each\n",
    "          dimension of the input tensor.\n",
    "              \n",
    "          padding - A string, either 'VALID' or 'SAME'."
   ]
  },
  {
   "cell_type": "code",
   "execution_count": 6,
   "metadata": {
    "collapsed": false
   },
   "outputs": [
   ],
   "source": [
    "def conv2d(x,W,b,strides=1):\n",
    "    x=tf.nn.conv2d(x,W,strides=[1,strides,strides,1],padding='SAME')\n",
    "    x=tf.nn.bias_add(x,b)\n",
    "    return tf.nn.relu(x)"
   ]
  },
  {
   "cell_type": "code",
   "execution_count": 7,
   "metadata": {
    "collapsed": false
   },
   "outputs": [
   ],
   "source": [
    "def maxpool2d(x,k=2):\n",
    "    return tf.nn.max_pool(x, ksize=[1, k, k, 1], strides=[1, k, k, 1],padding='SAME')"
   ]
  },
  {
   "cell_type": "markdown",
   "metadata": {
    "collapsed": false
   },
   "source": [
    "<h4><b><u>conv_total process</u></b></h4>\n",
    "\n",
    "<span class=\"label label-pill label-primary\">Reshape MNIST 1D to 4D [Batch Size, Height, Width, Channel]</span>\n",
    "\n",
    "<span class=\"label label-pill label-info\">First Convolution and Max Pooling Layer [5 x 5],1/32</span>\n",
    "\n",
    "<span class=\"label label-pill label-success\">Second Convolution and Max Pooling Layer [5 x 5],32/64</span>\n",
    "\n",
    "<span class=\"label label-pill label-danger\">Fully Connected Layer [7 x 7 x 64],1024</span>\n",
    "\n",
    "<span class=\"label label-pill label-default\">Dropout </span>\n",
    "\n",
    "<span class=\"label label-pill label-warning\">Output Layer [1024],10</span>\n"
   ]
  },
  {
   "cell_type": "code",
   "execution_count": 8,
   "metadata": {
    "collapsed": false
   },
   "outputs": [
   ],
   "source": [
    "# Model Creation conv_total\n",
    "\n",
    "def conv_total(x,weights,biases,dropout):\n",
    "    \n",
    "    x=tf.reshape(x,shape=[-1,28,28,1])\n",
    "    \n",
    "    conv1=conv2d(x,weights['wc1'],biases['bc1'])\n",
    "    conv1=maxpool2d(conv1,k=2)\n",
    "    \n",
    "    conv2=conv2d(conv1,weights['wc2'],biases['bc2'])\n",
    "    conv2=maxpool2d(conv2,k=2)\n",
    "    \n",
    "    fc1=tf.reshape(conv2,[-1,weights['wd1'].get_shape().as_list()[0]])\n",
    "    fc1=tf.add(tf.matmul(fc1,weights['wd1']),biases['bd1'])\n",
    "    fc1=tf.nn.relu(fc1)\n",
    "    \n",
    "    fc1=tf.nn.dropout(fc1,dropout)\n",
    "    \n",
    "    out=tf.add(tf.matmul(fc1,weights['out']),biases['out'])\n",
    "    return out"
   ]
  },
  {
   "cell_type": "markdown",
   "metadata": {
    "collapsed": false
   },
   "source": [
    "</div>\n",
    "<div class=\"alert alert-success\" role=\"alert\">\n",
    "  Step IV: <b><u>Weights, Biases</u></b> for all layers and output\n",
    "</div>"
   ]
  },
  {
   "cell_type": "code",
   "execution_count": 9,
   "metadata": {
    "collapsed": false
   },
   "outputs": [
   ],
   "source": [
    "weights = {\n",
    "    'wc1': tf.Variable(tf.random_normal([5, 5, 1, 32])),\n",
    "    'wc2': tf.Variable(tf.random_normal([5, 5, 32, 64])),\n",
    "    'wd1': tf.Variable(tf.random_normal([7*7*64, 1024])),\n",
    "    'out': tf.Variable(tf.random_normal([1024, num_classes]))\n",
    "}"
   ]
  },
  {
   "cell_type": "code",
   "execution_count": 10,
   "metadata": {
    "collapsed": false
   },
   "outputs": [
   ],
   "source": [
    "biases = {\n",
    "    'bc1': tf.Variable(tf.random_normal([32])),\n",
    "    'bc2': tf.Variable(tf.random_normal([64])),\n",
    "    'bd1': tf.Variable(tf.random_normal([1024])),\n",
    "    'out': tf.Variable(tf.random_normal([num_classes]))\n",
    "}"
   ]
  },
  {
   "cell_type": "markdown",
   "metadata": {
    "collapsed": false
   },
   "source": [
    "</div>\n",
    "<div class=\"alert alert-success\" role=\"alert\">\n",
    "  Step V: Initialize and Define<b><u> Model, Loss, Optimizer, Evaluation</u></b>\n",
    "</div>"
   ]
  },
  {
   "cell_type": "code",
   "execution_count": 11,
   "metadata": {
    "collapsed": false
   },
   "outputs": [
    {
     "name": "stdout",
     "output_type": "stream",
     "text": [
      "WARNING:tensorflow:From <ipython-input-8-1222664005ef>:17: calling dropout (from tensorflow.python.ops.nn_ops) with keep_prob is deprecated and will be removed in a future version.\n",
      "Instructions for updating:\n",
      "Please use `rate` instead of `keep_prob`. Rate should be set to `rate = 1 - keep_prob`.\n"
     ]
    }
   ],
   "source": [
    "#Model\n",
    "model=conv_total(X,weights,biases,keep_prob)\n",
    "pred=tf.nn.softmax(model)"
   ]
  },
  {
   "cell_type": "code",
   "execution_count": 12,
   "metadata": {
    "collapsed": false
   },
   "outputs": [
    {
     "name": "stdout",
     "output_type": "stream",
     "text": [
      "WARNING:tensorflow:From <ipython-input-12-f843f699e42f>:3: softmax_cross_entropy_with_logits (from tensorflow.python.ops.nn_ops) is deprecated and will be removed in a future version.\n",
      "Instructions for updating:\n",
      "\n",
      "Future major versions of TensorFlow will allow gradients to flow\n",
      "into the labels input on backprop by default.\n",
      "\n",
      "See `tf.nn.softmax_cross_entropy_with_logits_v2`.\n",
      "\n"
     ]
    }
   ],
   "source": [
    "#Loss/Optimizer\n",
    "loss=tf.reduce_mean(tf.nn.softmax_cross_entropy_with_logits(\n",
    "    logits=model, labels=Y))\n",
    "optimizer = tf.train.AdamOptimizer(learning_rate=learning_rate)\n",
    "train_op = optimizer.minimize(loss)"
   ]
  },
  {
   "cell_type": "code",
   "execution_count": 13,
   "metadata": {
    "collapsed": false
   },
   "outputs": [
   ],
   "source": [
    "# Evaluate model\n",
    "correct_pred = tf.equal(tf.argmax(pred, 1), tf.argmax(Y, 1))\n",
    "accuracy = tf.reduce_mean(tf.cast(correct_pred, tf.float32))"
   ]
  },
  {
   "cell_type": "markdown",
   "metadata": {
    "collapsed": false
   },
   "source": [
    "</div>\n",
    "<div class=\"alert alert-success\" role=\"alert\">\n",
    "  Step VI: Train<b><u> Model (Start Session)</u></b>\n",
    "</div>"
   ]
  },
  {
   "cell_type": "code",
   "execution_count": 14,
   "metadata": {
    "collapsed": false
   },
   "outputs": [
    {
     "name": "stdout",
     "output_type": "stream",
     "text": [
      "Step 1, Minibatch Loss= 53377.8203, Training Accuracy= 0.070\n",
      "Step 10, Minibatch Loss= 21902.5273, Training Accuracy= 0.359\n",
      "Step 20, Minibatch Loss= 10246.8896, Training Accuracy= 0.570\n",
      "Step 30, Minibatch Loss= 6399.7969, Training Accuracy= 0.781\n",
      "Step 40, Minibatch Loss= 4920.0801, Training Accuracy= 0.805\n",
      "Step 50, Minibatch Loss= 3786.1616, Training Accuracy= 0.797\n",
      "Step 60, Minibatch Loss= 3633.5073, Training Accuracy= 0.836\n",
      "Step 70, Minibatch Loss= 1622.8833, Training Accuracy= 0.898\n",
      "Step 80, Minibatch Loss= 4590.9287, Training Accuracy= 0.812\n",
      "Step 90, Minibatch Loss= 2725.2700, Training Accuracy= 0.859\n",
      "Step 100, Minibatch Loss= 2097.1323, Training Accuracy= 0.914\n",
      "Step 110, Minibatch Loss= 923.3202, Training Accuracy= 0.914\n",
      "Step 120, Minibatch Loss= 1587.5026, Training Accuracy= 0.914\n",
      "Step 130, Minibatch Loss= 2052.0078, Training Accuracy= 0.875\n",
      "Step 140, Minibatch Loss= 1561.1985, Training Accuracy= 0.898\n",
      "Step 150, Minibatch Loss= 3562.6533, Training Accuracy= 0.852\n",
      "Step 160, Minibatch Loss= 1457.3184, Training Accuracy= 0.922\n",
      "Step 170, Minibatch Loss= 1020.4445, Training Accuracy= 0.922\n",
      "Step 180, Minibatch Loss= 1457.0829, Training Accuracy= 0.906\n",
      "Step 190, Minibatch Loss= 1607.9192, Training Accuracy= 0.906\n",
      "Step 200, Minibatch Loss= 577.8828, Training Accuracy= 0.914\n",
      "Step 210, Minibatch Loss= 1452.3409, Training Accuracy= 0.922\n",
      "Step 220, Minibatch Loss= 1090.3347, Training Accuracy= 0.953\n",
      "Step 230, Minibatch Loss= 699.4371, Training Accuracy= 0.953\n",
      "Step 240, Minibatch Loss= 1215.3766, Training Accuracy= 0.914\n",
      "Step 250, Minibatch Loss= 1530.0454, Training Accuracy= 0.953\n",
      "Step 260, Minibatch Loss= 590.8955, Training Accuracy= 0.930\n",
      "Step 270, Minibatch Loss= 284.3291, Training Accuracy= 0.977\n",
      "Step 280, Minibatch Loss= 975.1637, Training Accuracy= 0.938\n",
      "Step 290, Minibatch Loss= 1118.8801, Training Accuracy= 0.938\n",
      "Step 300, Minibatch Loss= 608.6147, Training Accuracy= 0.938\n",
      "Step 310, Minibatch Loss= 980.7296, Training Accuracy= 0.961\n",
      "Step 320, Minibatch Loss= 449.6888, Training Accuracy= 0.945\n",
      "Step 330, Minibatch Loss= 647.9556, Training Accuracy= 0.953\n",
      "Step 340, Minibatch Loss= 1042.9493, Training Accuracy= 0.953\n",
      "Step 350, Minibatch Loss= 682.1879, Training Accuracy= 0.953\n",
      "Step 360, Minibatch Loss= 623.6242, Training Accuracy= 0.961\n",
      "Step 370, Minibatch Loss= 1050.9065, Training Accuracy= 0.945\n",
      "Step 380, Minibatch Loss= 952.3137, Training Accuracy= 0.906\n",
      "Step 390, Minibatch Loss= 411.6836, Training Accuracy= 0.953\n",
      "Step 400, Minibatch Loss= 951.8270, Training Accuracy= 0.938\n",
      "Step 410, Minibatch Loss= 1347.2812, Training Accuracy= 0.914\n",
      "Step 420, Minibatch Loss= 575.4105, Training Accuracy= 0.922\n",
      "Step 430, Minibatch Loss= 193.2155, Training Accuracy= 0.984\n",
      "Step 440, Minibatch Loss= 583.1794, Training Accuracy= 0.953\n",
      "Step 450, Minibatch Loss= 309.9267, Training Accuracy= 0.969\n",
      "Step 460, Minibatch Loss= 956.5614, Training Accuracy= 0.930\n",
      "Step 470, Minibatch Loss= 917.5839, Training Accuracy= 0.922\n",
      "Step 480, Minibatch Loss= 1084.7881, Training Accuracy= 0.930\n",
      "Step 490, Minibatch Loss= 614.2375, Training Accuracy= 0.969\n",
      "Step 500, Minibatch Loss= 1290.0237, Training Accuracy= 0.922\n",
      "Optimization Finished!\n",
      "Testing Accuracy: 0.98046875\n"
     ]
    }
   ],
   "source": [
    "init = tf.global_variables_initializer()\n",
    "with tf.Session() as sess:\n",
    "    sess.run(init)\n",
    "    for step in range(1, num_steps+1):\n",
    "        batch_x, batch_y = mnist.train.next_batch(batch_size)\n",
    "        sess.run(train_op, feed_dict={X: batch_x, Y: batch_y, keep_prob: dropout})\n",
    "        if step % display_step == 0 or step == 1:\n",
    "            loss_p, acc = sess.run([loss, accuracy],feed_dict={X: batch_x,Y: batch_y,keep_prob: 1.0})\n",
    "            \n",
    "            print(\"Step \" + str(step) + \", Minibatch Loss= \" + \\\n",
    "                  \"{:.4f}\".format(loss_p) + \", Training Accuracy= \" + \\\n",
    "                  \"{:.3f}\".format(acc))\n",
    "\n",
    "    print(\"Optimization Finished!\")\n",
    "\n",
    "    # Calculate accuracy for 256 MNIST test images\n",
    "    print(\"Testing Accuracy:\", \\\n",
    "        sess.run(accuracy, feed_dict={X: mnist.test.images[:256],\n",
    "                                      Y: mnist.test.labels[:256],\n",
    "                                      keep_prob: 1.0}))    "
   ]
  }
 ],
 "metadata": {
  "kernelspec": {
   "display_name": "Python 3 (system-wide)",
   "language": "python",
   "metadata": {
    "cocalc": {
     "description": "Python 3 programming language",
     "priority": 100,
     "url": "https://www.python.org/"
    }
   },
   "name": "python3"
  },
  "language_info": {
   "codemirror_mode": {
    "name": "ipython",
    "version": 3
   },
   "file_extension": ".py",
   "mimetype": "text/x-python",
   "name": "python",
   "nbconvert_exporter": "python",
   "pygments_lexer": "ipython3",
   "version": "3.8.2"
  }
 },
 "nbformat": 4,
 "nbformat_minor": 4
}